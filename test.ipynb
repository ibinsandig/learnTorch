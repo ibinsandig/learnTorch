{
 "cells": [
  {
   "cell_type": "code",
   "execution_count": 1,
   "id": "d45d25b5",
   "metadata": {},
   "outputs": [],
   "source": [
    "import torch\n"
   ]
  },
  {
   "cell_type": "code",
   "execution_count": 27,
   "id": "7417b050",
   "metadata": {},
   "outputs": [
    {
     "data": {
      "text/plain": [
       "tensor([ 1.0000,  1.5000,  2.0000,  2.5000,  3.0000,  3.5000,  4.0000,  4.5000,\n",
       "         5.0000,  5.5000,  6.0000,  6.5000,  7.0000,  7.5000,  8.0000,  8.5000,\n",
       "         9.0000,  9.5000, 10.0000, 10.5000])"
      ]
     },
     "execution_count": 27,
     "metadata": {},
     "output_type": "execute_result"
    }
   ],
   "source": [
    "x = torch.arange(1, 11, 0.5)\n",
    "x"
   ]
  },
  {
   "cell_type": "code",
   "execution_count": 6,
   "id": "69f5a22a",
   "metadata": {},
   "outputs": [
    {
     "data": {
      "text/plain": [
       "(torch.Size([20]), torch.float32)"
      ]
     },
     "execution_count": 6,
     "metadata": {},
     "output_type": "execute_result"
    }
   ],
   "source": [
    "x.shape, x.dtype"
   ]
  },
  {
   "cell_type": "code",
   "execution_count": 28,
   "id": "0b30d81c",
   "metadata": {},
   "outputs": [
    {
     "data": {
      "text/plain": [
       "tensor([[ 1.0000,  1.5000,  2.0000,  2.5000,  3.0000,  3.5000,  4.0000,  4.5000,\n",
       "          5.0000,  5.5000,  6.0000,  6.5000,  7.0000,  7.5000,  8.0000,  8.5000,\n",
       "          9.0000,  9.5000, 10.0000, 10.5000]])"
      ]
     },
     "execution_count": 28,
     "metadata": {},
     "output_type": "execute_result"
    }
   ],
   "source": [
    "y = x.reshape(1, 20)\n",
    "y"
   ]
  },
  {
   "cell_type": "code",
   "execution_count": 29,
   "id": "2ca49238",
   "metadata": {},
   "outputs": [
    {
     "data": {
      "text/plain": [
       "tensor([[  1.0000,   2.2500,   4.0000,   6.2500,   9.0000,  12.2500,  16.0000,\n",
       "          20.2500,  25.0000,  30.2500,  36.0000,  42.2500,  49.0000,  56.2500,\n",
       "          64.0000,  72.2500,  81.0000,  90.2500, 100.0000, 110.2500]])"
      ]
     },
     "execution_count": 29,
     "metadata": {},
     "output_type": "execute_result"
    }
   ],
   "source": [
    "xy = y * x \n",
    "xy"
   ]
  },
  {
   "cell_type": "code",
   "execution_count": 31,
   "id": "a0a8e835",
   "metadata": {},
   "outputs": [
    {
     "data": {
      "text/plain": [
       "tensor([[[  1.0000,   2.2500,   4.0000,   6.2500,   9.0000],\n",
       "         [ 12.2500,  16.0000,  20.2500,  25.0000,  30.2500],\n",
       "         [ 36.0000,  42.2500,  49.0000,  56.2500,  64.0000],\n",
       "         [ 72.2500,  81.0000,  90.2500, 100.0000, 110.2500]]])"
      ]
     },
     "execution_count": 31,
     "metadata": {},
     "output_type": "execute_result"
    }
   ],
   "source": [
    "xy.reshape(1,4,5)"
   ]
  },
  {
   "cell_type": "code",
   "execution_count": 35,
   "id": "96688444",
   "metadata": {},
   "outputs": [
    {
     "data": {
      "text/plain": [
       "tensor(1.)"
      ]
     },
     "execution_count": 35,
     "metadata": {},
     "output_type": "execute_result"
    }
   ],
   "source": [
    "xy[0][0]"
   ]
  }
 ],
 "metadata": {
  "kernelspec": {
   "display_name": "venvPyTorch",
   "language": "python",
   "name": "python3"
  },
  "language_info": {
   "codemirror_mode": {
    "name": "ipython",
    "version": 3
   },
   "file_extension": ".py",
   "mimetype": "text/x-python",
   "name": "python",
   "nbconvert_exporter": "python",
   "pygments_lexer": "ipython3",
   "version": "3.12.3"
  }
 },
 "nbformat": 4,
 "nbformat_minor": 5
}
